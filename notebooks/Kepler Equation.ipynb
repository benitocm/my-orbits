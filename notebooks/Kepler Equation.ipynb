{
 "cells": [
  {
   "cell_type": "code",
   "execution_count": 3,
   "id": "2f9cc2db",
   "metadata": {},
   "outputs": [
    {
     "name": "stdout",
     "output_type": "stream",
     "text": [
      "The autoreload extension is already loaded. To reload it, use:\n",
      "  %reload_ext autoreload\n"
     ]
    }
   ],
   "source": [
    "from myorbit.orbits.keplerian import solve_kepler_eq, _calc_E0, _F, _Fprime, _Fprime2\n",
    "import numpy as np\n",
    "%load_ext autoreload\n",
    "%autoreload 2"
   ]
  },
  {
   "cell_type": "code",
   "execution_count": 23,
   "id": "0ce8bb46",
   "metadata": {},
   "outputs": [
    {
     "name": "stdout",
     "output_type": "stream",
     "text": [
      "      converged: True\n",
      "           flag: 'converged'\n",
      " function_calls: 69\n",
      "     iterations: 23\n",
      "           root: 0.2189467620560718\n"
     ]
    }
   ],
   "source": [
    "#eccentricity\n",
    "e=0.999999\n",
    "# Mean anomaly\n",
    "M=np.deg2rad(0.1)\n",
    "# Initial Eccentric anomaly\n",
    "E0= _calc_E0(e,M)\n",
    "x, root = solve_kepler_eq(e, M, E0)\n",
    "print (root)"
   ]
  },
  {
   "cell_type": "code",
   "execution_count": 22,
   "id": "e5dce343",
   "metadata": {},
   "outputs": [
    {
     "name": "stdout",
     "output_type": "stream",
     "text": [
      "0.0\n"
     ]
    }
   ],
   "source": [
    "print(_F(e,M,x))"
   ]
  },
  {
   "cell_type": "code",
   "execution_count": null,
   "id": "ae1c832d",
   "metadata": {},
   "outputs": [],
   "source": []
  }
 ],
 "metadata": {
  "kernelspec": {
   "display_name": "py37_astro",
   "language": "python",
   "name": "py37_astro"
  },
  "language_info": {
   "codemirror_mode": {
    "name": "ipython",
    "version": 3
   },
   "file_extension": ".py",
   "mimetype": "text/x-python",
   "name": "python",
   "nbconvert_exporter": "python",
   "pygments_lexer": "ipython3",
   "version": "3.7.11"
  }
 },
 "nbformat": 4,
 "nbformat_minor": 5
}
