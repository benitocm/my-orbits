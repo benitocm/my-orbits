{
 "cells": [
  {
   "cell_type": "code",
   "execution_count": 30,
   "metadata": {
    "ExecuteTime": {
     "end_time": "2021-10-29T18:08:45.567915Z",
     "start_time": "2021-10-29T18:08:45.519787Z"
    }
   },
   "outputs": [
    {
     "name": "stdout",
     "output_type": "stream",
     "text": [
      "The autoreload extension is already loaded. To reload it, use:\n",
      "  %reload_ext autoreload\n"
     ]
    }
   ],
   "source": [
    "from myorbit.orbits.keplerian import solve_kepler_eq, _calc_E0, _F, _Fprime, _Fprime2\n",
    "import numpy as np\n",
    "%load_ext autoreload\n",
    "%autoreload 2"
   ]
  },
  {
   "cell_type": "code",
   "execution_count": 31,
   "metadata": {
    "ExecuteTime": {
     "end_time": "2021-10-29T18:08:46.831195Z",
     "start_time": "2021-10-29T18:08:46.769765Z"
    }
   },
   "outputs": [
    {
     "name": "stdout",
     "output_type": "stream",
     "text": [
      "      converged: True\n",
      "           flag: 'converged'\n",
      " function_calls: 69\n",
      "     iterations: 23\n",
      "           root: 0.2189467620560718\n"
     ]
    }
   ],
   "source": [
    "#eccentricity\n",
    "e=0.999999\n",
    "# Mean anomaly\n",
    "M=np.deg2rad(0.1)\n",
    "# Initial Eccentric anomaly\n",
    "E0= _calc_E0(e,M)\n",
    "x, root = solve_kepler_eq(e, M, E0)\n",
    "print (root)"
   ]
  },
  {
   "cell_type": "code",
   "execution_count": 32,
   "metadata": {
    "ExecuteTime": {
     "end_time": "2021-10-29T18:08:48.170031Z",
     "start_time": "2021-10-29T18:08:48.109612Z"
    }
   },
   "outputs": [
    {
     "name": "stdout",
     "output_type": "stream",
     "text": [
      "-2.5370330836160804e-17\n"
     ]
    }
   ],
   "source": [
    "print(_F(e,M,x))"
   ]
  },
  {
   "cell_type": "code",
   "execution_count": 33,
   "metadata": {
    "ExecuteTime": {
     "end_time": "2021-10-29T18:08:49.484173Z",
     "start_time": "2021-10-29T18:08:49.437660Z"
    }
   },
   "outputs": [],
   "source": [
    "from myorbit.util.constants import GM_by_planet"
   ]
  },
  {
   "cell_type": "code",
   "execution_count": 38,
   "metadata": {
    "ExecuteTime": {
     "end_time": "2021-10-29T18:09:49.295400Z",
     "start_time": "2021-10-29T18:09:49.242021Z"
    }
   },
   "outputs": [],
   "source": [
    "GM = 2.959122083e-4 \n",
    "mu = GM_by_planet[\"Sun\"] \n",
    "mercury_a = 0.38709893  \n",
    "jupyter_a = 5.20336301\n",
    "halley_a = 17.83414429\n",
    "mars_a = 1.52366231\n",
    "mars_e= 0.09341233\n",
    "def T(mu, a):\n",
    "    return 2*np.pi*np.power(a,1.5)/np.sqrt(mu)"
   ]
  },
  {
   "cell_type": "code",
   "execution_count": 35,
   "metadata": {
    "ExecuteTime": {
     "end_time": "2021-10-29T18:08:53.299434Z",
     "start_time": "2021-10-29T18:08:53.249246Z"
    }
   },
   "outputs": [
    {
     "name": "stdout",
     "output_type": "stream",
     "text": [
      "Period days 27509.12906660781\n"
     ]
    }
   ],
   "source": [
    "print (f'Period days',T(mu,halley_a))"
   ]
  },
  {
   "cell_type": "code",
   "execution_count": 36,
   "metadata": {
    "ExecuteTime": {
     "end_time": "2021-10-29T18:08:54.517276Z",
     "start_time": "2021-10-29T18:08:54.469420Z"
    }
   },
   "outputs": [],
   "source": [
    "#https://astronomy.stackexchange.com/questions/41090/calculating-the-angular-momentum-of-a-planet\n",
    "def semi_latus_rectum(a,e):\n",
    "    return  a*(1+e*e)\n",
    "\n",
    "def h(mu,p) :\n",
    "    np.sqrt(mu*p)"
   ]
  },
  {
   "cell_type": "code",
   "execution_count": 40,
   "metadata": {
    "ExecuteTime": {
     "end_time": "2021-10-29T18:10:01.352869Z",
     "start_time": "2021-10-29T18:10:01.293111Z"
    }
   },
   "outputs": [
    {
     "data": {
      "text/plain": [
       "1.536957579178738"
      ]
     },
     "execution_count": 40,
     "metadata": {},
     "output_type": "execute_result"
    }
   ],
   "source": [
    "p=semi_latus_rectum(mars_a,mars_e)\n",
    "p"
   ]
  },
  {
   "cell_type": "code",
   "execution_count": null,
   "metadata": {},
   "outputs": [],
   "source": []
  }
 ],
 "metadata": {
  "kernelspec": {
   "display_name": "py37astro",
   "language": "python",
   "name": "py37astro"
  },
  "language_info": {
   "codemirror_mode": {
    "name": "ipython",
    "version": 3
   },
   "file_extension": ".py",
   "mimetype": "text/x-python",
   "name": "python",
   "nbconvert_exporter": "python",
   "pygments_lexer": "ipython3",
   "version": "3.7.7"
  }
 },
 "nbformat": 4,
 "nbformat_minor": 5
}
