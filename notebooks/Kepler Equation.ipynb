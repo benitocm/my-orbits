{
 "cells": [
  {
   "cell_type": "code",
   "execution_count": 3,
   "id": "7873733d",
   "metadata": {},
   "outputs": [
    {
     "name": "stdout",
     "output_type": "stream",
     "text": [
      "The autoreload extension is already loaded. To reload it, use:\n",
      "  %reload_ext autoreload\n"
     ]
    }
   ],
   "source": [
    "from myorbit.orbits.keplerian import solve_kepler_eq, _calc_E0, _F, _Fprime, _Fprime2\n",
    "import numpy as np\n",
    "%load_ext autoreload\n",
    "%autoreload 2"
   ]
  },
  {
   "cell_type": "code",
   "execution_count": 21,
   "id": "c9f99991",
   "metadata": {},
   "outputs": [
    {
     "name": "stdout",
     "output_type": "stream",
     "text": [
      "      converged: True\n",
      "           flag: 'converged'\n",
      " function_calls: 7\n",
      "     iterations: 2\n",
      "           root: 3.4787561339465554\n"
     ]
    }
   ],
   "source": [
    "#eccentricity\n",
    "e=0.37255\n",
    "# Mean anomaly\n",
    "M=3.602\n",
    "# Initial Eccentric anomaly\n",
    "E0= _calc_E0(e,M)\n",
    "x, root = solve_kepler_eq(e, M, E0)\n",
    "print (root)"
   ]
  },
  {
   "cell_type": "code",
   "execution_count": 22,
   "id": "70836dc5",
   "metadata": {},
   "outputs": [
    {
     "name": "stdout",
     "output_type": "stream",
     "text": [
      "0.0\n"
     ]
    }
   ],
   "source": [
    "print(_F(e,M,x))"
   ]
  },
  {
   "cell_type": "code",
   "execution_count": null,
   "id": "8a20cec7",
   "metadata": {},
   "outputs": [],
   "source": []
  }
 ],
 "metadata": {
  "kernelspec": {
   "display_name": "py37_astro",
   "language": "python",
   "name": "py37_astro"
  },
  "language_info": {
   "codemirror_mode": {
    "name": "ipython",
    "version": 3
   },
   "file_extension": ".py",
   "mimetype": "text/x-python",
   "name": "python",
   "nbconvert_exporter": "python",
   "pygments_lexer": "ipython3",
   "version": "3.7.11"
  }
 },
 "nbformat": 4,
 "nbformat_minor": 5
}
