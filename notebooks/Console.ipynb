{
 "cells": [
  {
   "cell_type": "code",
   "execution_count": 1,
   "metadata": {
    "ExecuteTime": {
     "end_time": "2020-06-27T07:08:27.126919Z",
     "start_time": "2020-06-27T07:08:26.457245Z"
    }
   },
   "outputs": [
    {
     "name": "stdout",
     "output_type": "stream",
     "text": [
      "['/g/wsl_projs/practical-astronomy/notebooks', '/home/anybody/wsl_projs/practical-astronomy', '/home/anybody/wsl_projs/example', '/g/wsl_projs/practical-astronomy/notebooks', '/home/anybody/apps/anaconda3/envs/py37astro/lib/python37.zip', '/home/anybody/apps/anaconda3/envs/py37astro/lib/python3.7', '/home/anybody/apps/anaconda3/envs/py37astro/lib/python3.7/lib-dynload', '', '/home/anybody/.local/lib/python3.7/site-packages', '/home/anybody/apps/anaconda3/envs/py37astro/lib/python3.7/site-packages', '/home/anybody/.local/lib/python3.7/site-packages/IPython/extensions', '/home/anybody/.ipython']\n"
     ]
    },
    {
     "name": "stderr",
     "output_type": "stream",
     "text": [
      "\n",
      "Bad key \"text.kerning_factor\" on line 4 in\n",
      "/home/anybody/apps/anaconda3/envs/py37astro/lib/python3.7/site-packages/matplotlib/mpl-data/stylelib/_classic_test_patch.mplstyle.\n",
      "You probably need to get an updated matplotlibrc file from\n",
      "https://github.com/matplotlib/matplotlib/blob/v3.1.3/matplotlibrc.template\n",
      "or from the matplotlib source distribution\n"
     ]
    }
   ],
   "source": [
    "%matplotlib notebook\n",
    "import sys\n",
    "print (sys.path)"
   ]
  },
  {
   "cell_type": "code",
   "execution_count": 2,
   "metadata": {
    "ExecuteTime": {
     "end_time": "2020-06-27T07:08:27.976999Z",
     "start_time": "2020-06-27T07:08:27.927915Z"
    }
   },
   "outputs": [],
   "source": [
    "import sys\n",
    "from pathlib import Path\n",
    "\n",
    "SRC_ROOT_DIR_0 = '/g/wsl_projs/practical-astronomy'\n",
    "SRC_ROOT_DIR_1 = '/g/wsl_projs/practical-astronomy/myastro/'\n",
    "sys.path.insert(0, SRC_ROOT_DIR_0)\n",
    "sys.path.insert(1, SRC_ROOT_DIR_1)\n",
    "\n",
    "%load_ext autoreload\n",
    "%autoreload 2"
   ]
  },
  {
   "cell_type": "code",
   "execution_count": 3,
   "metadata": {
    "ExecuteTime": {
     "end_time": "2020-06-27T07:08:29.678209Z",
     "start_time": "2020-06-27T07:08:28.651755Z"
    }
   },
   "outputs": [],
   "source": [
    "import myastro.timeutil as tc\n",
    "import myastro.coord as co\n",
    "import myastro.orbit as ob\n",
    "import myastro.planets as pl\n",
    "from myastro.coord import as_str, Coord, cartesianFpolar, polarFcartesian,EQUAT2_TYPE\n",
    "import myastro.data_catalog as dc\n",
    "import myastro.util as ut\n",
    "\n",
    "import numpy as np\n",
    "from numpy import sin, cos\n",
    "from toolz import pipe, compose\n",
    "import toolz as tz\n",
    "from functools import partial\n",
    "from itertools import starmap\n",
    "\n",
    "from matplotlib import pyplot\n",
    "\n",
    "from cluegen import Datum\n",
    "\n",
    "\n"
   ]
  },
  {
   "cell_type": "code",
   "execution_count": 4,
   "metadata": {
    "ExecuteTime": {
     "end_time": "2020-06-14T15:42:23.969921Z",
     "start_time": "2020-06-14T15:42:23.909261Z"
    }
   },
   "outputs": [
    {
     "name": "stdout",
     "output_type": "stream",
     "text": [
      "['/g/wsl_projs/practical-astronomy', '/g/wsl_projs/practical-astronomy/myastro/', '/g/wsl_projs/practical-astronomy/notebooks', '/home/anybody/wsl_projs/practical-astronomy', '/home/anybody/wsl_projs/example', '/g/wsl_projs/practical-astronomy/notebooks', '/home/anybody/apps/anaconda3/envs/py37astro/lib/python37.zip', '/home/anybody/apps/anaconda3/envs/py37astro/lib/python3.7', '/home/anybody/apps/anaconda3/envs/py37astro/lib/python3.7/lib-dynload', '', '/home/anybody/.local/lib/python3.7/site-packages', '/home/anybody/apps/anaconda3/envs/py37astro/lib/python3.7/site-packages', '/home/anybody/.local/lib/python3.7/site-packages/IPython/extensions', '/home/anybody/.ipython']\n"
     ]
    }
   ],
   "source": [
    "print (sys.path)"
   ]
  },
  {
   "cell_type": "markdown",
   "metadata": {
    "heading_collapsed": true
   },
   "source": [
    "### Sun Position"
   ]
  },
  {
   "cell_type": "code",
   "execution_count": 4,
   "metadata": {
    "ExecuteTime": {
     "end_time": "2020-05-25T15:40:03.699715Z",
     "start_time": "2020-05-25T15:40:03.642799Z"
    },
    "hidden": true
   },
   "outputs": [],
   "source": [
    "jd = tc.datetime2jd(2001,7,27,0,0,0)\n",
    "#jd = tc.JD_J2000\n",
    "clock_mjd = tc.jd2mjd(jd)\n",
    "#mtx_equatFeclip = co.mtx_equatFeclip(\"J2000\")\n"
   ]
  },
  {
   "cell_type": "code",
   "execution_count": null,
   "metadata": {
    "ExecuteTime": {
     "end_time": "2020-05-23T19:34:40.621702Z",
     "start_time": "2020-05-23T19:34:40.426Z"
    },
    "hidden": true
   },
   "outputs": [],
   "source": [
    "eclip_sun1  = pipe(clock_mjd, tc.mjd2jd,  pl.sun_geo_eclipt_position)\n",
    "equat_sun1 = pipe(eclip_sun1.v, cartesianFpolar, mtx_equatFeclip.dot, polarFcartesian)\n",
    "equat_sun1 = Coord(equat_sun1 ,'J2000', EQUAT2_TYPE)\n",
    "print (as_str(eclip_sun1))\n",
    "print (as_str(equat_sun1))"
   ]
  },
  {
   "cell_type": "code",
   "execution_count": 6,
   "metadata": {
    "ExecuteTime": {
     "end_time": "2020-05-23T19:34:40.956101Z",
     "start_time": "2020-05-23T19:34:40.886684Z"
    },
    "hidden": true
   },
   "outputs": [
    {
     "ename": "NameError",
     "evalue": "name 'mtx_equatFeclip' is not defined",
     "output_type": "error",
     "traceback": [
      "\u001b[0;31m---------------------------------------------------------------------------\u001b[0m",
      "\u001b[0;31mNameError\u001b[0m                                 Traceback (most recent call last)",
      "\u001b[0;32m<ipython-input-6-a0bfd6d6dbed>\u001b[0m in \u001b[0;36m<module>\u001b[0;34m\u001b[0m\n\u001b[1;32m      1\u001b[0m \u001b[0mT\u001b[0m \u001b[0;34m=\u001b[0m \u001b[0;34m(\u001b[0m\u001b[0mclock_mjd\u001b[0m \u001b[0;34m-\u001b[0m \u001b[0mtc\u001b[0m\u001b[0;34m.\u001b[0m\u001b[0mMDJ_J2000\u001b[0m\u001b[0;34m)\u001b[0m \u001b[0;34m/\u001b[0m \u001b[0;36m36525.0\u001b[0m\u001b[0;34m\u001b[0m\u001b[0;34m\u001b[0m\u001b[0m\n\u001b[1;32m      2\u001b[0m \u001b[0meclip_sun2\u001b[0m \u001b[0;34m=\u001b[0m \u001b[0mper\u001b[0m\u001b[0;34m.\u001b[0m\u001b[0msunPos\u001b[0m\u001b[0;34m(\u001b[0m\u001b[0mT\u001b[0m\u001b[0;34m)\u001b[0m\u001b[0;34m\u001b[0m\u001b[0;34m\u001b[0m\u001b[0m\n\u001b[0;32m----> 3\u001b[0;31m \u001b[0mequat_sun2\u001b[0m \u001b[0;34m=\u001b[0m \u001b[0mpipe\u001b[0m\u001b[0;34m(\u001b[0m\u001b[0meclip_sun2\u001b[0m\u001b[0;34m.\u001b[0m\u001b[0mv\u001b[0m\u001b[0;34m,\u001b[0m \u001b[0mcartesianFpolar\u001b[0m\u001b[0;34m,\u001b[0m \u001b[0mmtx_equatFeclip\u001b[0m\u001b[0;34m.\u001b[0m\u001b[0mdot\u001b[0m\u001b[0;34m,\u001b[0m \u001b[0mpolarFcartesian\u001b[0m\u001b[0;34m)\u001b[0m\u001b[0;34m\u001b[0m\u001b[0;34m\u001b[0m\u001b[0m\n\u001b[0m\u001b[1;32m      4\u001b[0m \u001b[0mequat_sun2\u001b[0m \u001b[0;34m=\u001b[0m \u001b[0mCoord\u001b[0m\u001b[0;34m(\u001b[0m\u001b[0mequat_sun2\u001b[0m \u001b[0;34m,\u001b[0m\u001b[0;34m'J2000'\u001b[0m\u001b[0;34m,\u001b[0m \u001b[0mEQUAT2_TYPE\u001b[0m\u001b[0;34m)\u001b[0m\u001b[0;34m\u001b[0m\u001b[0;34m\u001b[0m\u001b[0m\n\u001b[1;32m      5\u001b[0m \u001b[0mprint\u001b[0m \u001b[0;34m(\u001b[0m\u001b[0mT\u001b[0m\u001b[0;34m)\u001b[0m\u001b[0;34m\u001b[0m\u001b[0;34m\u001b[0m\u001b[0m\n",
      "\u001b[0;31mNameError\u001b[0m: name 'mtx_equatFeclip' is not defined"
     ]
    }
   ],
   "source": [
    "T = (clock_mjd - tc.MDJ_J2000) / 36525.0\n",
    "eclip_sun2 = per.sunPos(T)\n",
    "equat_sun2 = pipe(eclip_sun2.v, cartesianFpolar, mtx_equatFeclip.dot, polarFcartesian)\n",
    "equat_sun2 = Coord(equat_sun2 ,'J2000', EQUAT2_TYPE)\n",
    "print (T)\n",
    "print (as_str(eclip_sun2))\n",
    "print (as_str(equat_sun2))"
   ]
  },
  {
   "cell_type": "markdown",
   "metadata": {
    "heading_collapsed": true
   },
   "source": [
    "### Modified Julian Dates"
   ]
  },
  {
   "cell_type": "code",
   "execution_count": 7,
   "metadata": {
    "ExecuteTime": {
     "end_time": "2020-06-14T08:06:58.161886Z",
     "start_time": "2020-06-14T08:06:58.094217Z"
    },
    "hidden": true
   },
   "outputs": [
    {
     "data": {
      "text/plain": [
       "(2020, 5, 31.0)"
      ]
     },
     "execution_count": 7,
     "metadata": {},
     "output_type": "execute_result"
    }
   ],
   "source": [
    "# Modified Julian Date --> Date\n",
    "tc.jd2datefd(tc.mjd2jd( 59000))"
   ]
  },
  {
   "cell_type": "markdown",
   "metadata": {},
   "source": [
    "### Julian Dates"
   ]
  },
  {
   "cell_type": "code",
   "execution_count": 10,
   "metadata": {
    "ExecuteTime": {
     "end_time": "2020-06-27T07:13:11.771527Z",
     "start_time": "2020-06-27T07:13:11.716488Z"
    }
   },
   "outputs": [
    {
     "data": {
      "text/plain": [
       "1721423.5"
      ]
     },
     "execution_count": 10,
     "metadata": {},
     "output_type": "execute_result"
    }
   ],
   "source": [
    "tc.datetime2jd(1,1,1)"
   ]
  },
  {
   "cell_type": "code",
   "execution_count": 11,
   "metadata": {
    "ExecuteTime": {
     "end_time": "2020-06-27T07:27:03.927857Z",
     "start_time": "2020-06-27T07:27:03.821828Z"
    }
   },
   "outputs": [
    {
     "data": {
      "text/plain": [
       "(1532, 10, 19.0)"
      ]
     },
     "execution_count": 11,
     "metadata": {},
     "output_type": "execute_result"
    }
   ],
   "source": [
    "tc.jd2datefd(2280912.5)"
   ]
  },
  {
   "cell_type": "code",
   "execution_count": 12,
   "metadata": {
    "ExecuteTime": {
     "end_time": "2020-05-23T17:42:29.265233Z",
     "start_time": "2020-05-23T17:42:29.202626Z"
    }
   },
   "outputs": [
    {
     "data": {
      "text/plain": [
       "(16.0, 16.0, 59.12759999999594)"
      ]
     },
     "execution_count": 12,
     "metadata": {},
     "output_type": "execute_result"
    }
   ],
   "source": [
    "tc.h2hms(16.283091)"
   ]
  },
  {
   "cell_type": "code",
   "execution_count": 7,
   "metadata": {
    "ExecuteTime": {
     "end_time": "2020-05-23T19:34:52.486498Z",
     "start_time": "2020-05-23T19:34:52.395259Z"
    }
   },
   "outputs": [
    {
     "data": {
      "text/plain": [
       "2451545.0"
      ]
     },
     "execution_count": 7,
     "metadata": {},
     "output_type": "execute_result"
    }
   ],
   "source": [
    "tc.datefd2jd(*(2000.0,1.0,1.5))"
   ]
  },
  {
   "cell_type": "code",
   "execution_count": 8,
   "metadata": {
    "ExecuteTime": {
     "end_time": "2020-05-23T20:45:38.922212Z",
     "start_time": "2020-05-23T20:45:38.842480Z"
    }
   },
   "outputs": [
    {
     "data": {
      "text/plain": [
       "(0.0, 0.0, 0.7205276742674107, 1)"
      ]
     },
     "execution_count": 8,
     "metadata": {},
     "output_type": "execute_result"
    }
   ],
   "source": [
    "tc.dg2dgms(0.00020014657618539186)"
   ]
  },
  {
   "cell_type": "markdown",
   "metadata": {},
   "source": [
    "### Comparsion"
   ]
  },
  {
   "cell_type": "code",
   "execution_count": 150,
   "metadata": {
    "ExecuteTime": {
     "end_time": "2020-05-25T06:20:39.592209Z",
     "start_time": "2020-05-25T06:20:39.542952Z"
    }
   },
   "outputs": [],
   "source": []
  },
  {
   "cell_type": "code",
   "execution_count": 18,
   "metadata": {
    "ExecuteTime": {
     "end_time": "2020-06-17T18:23:17.342528Z",
     "start_time": "2020-06-17T18:23:17.222275Z"
    }
   },
   "outputs": [
    {
     "data": {
      "text/html": [
       "<div>\n",
       "<style scoped>\n",
       "    .dataframe tbody tr th:only-of-type {\n",
       "        vertical-align: middle;\n",
       "    }\n",
       "\n",
       "    .dataframe tbody tr th {\n",
       "        vertical-align: top;\n",
       "    }\n",
       "\n",
       "    .dataframe thead th {\n",
       "        text-align: right;\n",
       "    }\n",
       "</style>\n",
       "<table border=\"1\" class=\"dataframe\">\n",
       "  <thead>\n",
       "    <tr style=\"text-align: right;\">\n",
       "      <th></th>\n",
       "      <th>date</th>\n",
       "      <th>ra_1</th>\n",
       "      <th>de_1</th>\n",
       "      <th>r_AU_1</th>\n",
       "    </tr>\n",
       "  </thead>\n",
       "  <tbody>\n",
       "    <tr>\n",
       "      <th>0</th>\n",
       "      <td>1985/11/15</td>\n",
       "      <td>1.050321</td>\n",
       "      <td>0.385206</td>\n",
       "      <td>0.737185</td>\n",
       "    </tr>\n",
       "    <tr>\n",
       "      <th>1</th>\n",
       "      <td>1985/11/25</td>\n",
       "      <td>0.590874</td>\n",
       "      <td>0.321202</td>\n",
       "      <td>0.623330</td>\n",
       "    </tr>\n",
       "    <tr>\n",
       "      <th>2</th>\n",
       "      <td>1985/12/05</td>\n",
       "      <td>0.126158</td>\n",
       "      <td>0.185981</td>\n",
       "      <td>0.665798</td>\n",
       "    </tr>\n",
       "    <tr>\n",
       "      <th>3</th>\n",
       "      <td>1985/12/15</td>\n",
       "      <td>6.101754</td>\n",
       "      <td>0.068005</td>\n",
       "      <td>0.821658</td>\n",
       "    </tr>\n",
       "    <tr>\n",
       "      <th>4</th>\n",
       "      <td>1985/12/25</td>\n",
       "      <td>5.921157</td>\n",
       "      <td>-0.005725</td>\n",
       "      <td>1.019648</td>\n",
       "    </tr>\n",
       "  </tbody>\n",
       "</table>\n",
       "</div>"
      ],
      "text/plain": [
       "         date      ra_1      de_1    r_AU_1\n",
       "0  1985/11/15  1.050321  0.385206  0.737185\n",
       "1  1985/11/25  0.590874  0.321202  0.623330\n",
       "2  1985/12/05  0.126158  0.185981  0.665798\n",
       "3  1985/12/15  6.101754  0.068005  0.821658\n",
       "4  1985/12/25  5.921157 -0.005725  1.019648"
      ]
     },
     "execution_count": 18,
     "metadata": {},
     "output_type": "execute_result"
    }
   ],
   "source": [
    "from io import StringIO\n",
    "import pandas as pd\n",
    "import numpy as np\n",
    "\n",
    "TESTDATA1 = StringIO(\"\"\"date col2 col3 col4 col5 col6 col7 col8 col9 col10 col11 col12 col13 col14 col15\n",
    " 1985-Nov-15 00:00     04 00 42.95 +22 04 14.5   6.722  14.285 0.73718520427549 -31.4700594 170.1092 /L   5.6649\n",
    " 1985-Nov-25 00:00     02 15 25.10 +18 24 12.6   6.047  14.027 0.62333047181196  -6.3229865 154.5321 /T  15.6614\n",
    " 1985-Dec-05 00:00     00 28 54.80 +10 39 21.4   5.841  14.618 0.66579761228425  19.4566006 117.6519 /T  37.8608\n",
    " 1985-Dec-15 00:00     23 18 25.14 +03 53 47.1   5.902  15.216 0.82165832632675  32.3058327  88.8455 /T  50.8347\n",
    " 1985-Dec-25 00:00     22 37 01.76 -00 19 40.9   5.919  15.518 1.01964817515110  35.0821083  67.6001 /T  54.6644\n",
    " 1986-Jan-04 00:00     22 10 41.09 -03 00 02.7   5.789  15.503 1.21683370900661  32.5221759  50.4539 /T  52.0862\n",
    " 1986-Jan-14 00:00     21 51 03.79 -04 58 20.1   5.500  15.191 1.38813800881596  26.1918607  35.2255 /T  44.1502\n",
    " 1986-Jan-24 00:00     21 33 31.14 -06 47 10.3   5.097  14.603 1.51189099565400  15.9494294  20.8375 /T  30.6178\n",
    " 1986-Feb-03 00:00     21 15 38.52 -08 48 56.7   4.720  13.877 1.56351066668255   1.1892138   8.1362 /T  13.3589\n",
    " 1986-Feb-13 00:00     20 57 16.88 -11 15 24.7   4.590  13.985 1.52038685721552 -16.1061960  12.0924 /L  20.4270\n",
    " 1986-Feb-23 00:00     20 39 38.83 -14 08 42.0   4.747  14.631 1.38348449344536 -30.4360877  25.9878 /L  41.2459\n",
    " 1986-Mar-05 00:00     20 22 17.51 -17 39 04.7   4.971  15.100 1.17934052806403 -39.4056203  40.6617 /L  56.5333\n",
    " 1986-Mar-15 00:00     20 00 52.33 -22 27 26.5   5.059  15.217 0.93724332481648 -43.6585045  56.5951 /L  64.8389\n",
    " 1986-Mar-25 00:00     19 22 42.90 -30 12 38.5   4.914  14.877 0.68564205981141 -42.1927310  76.4313 /L  65.0056\n",
    " 1986-Apr-04 00:00     17 41 32.13 -42 56 01.2   4.587  13.969 0.47526184111390 -26.9370349 106.6547 /L  51.5011\n",
    "\"\"\")\n",
    "df1 = dc.read_jpl_data(TESTDATA1)\n",
    "df1.head()"
   ]
  },
  {
   "cell_type": "code",
   "execution_count": 24,
   "metadata": {
    "ExecuteTime": {
     "end_time": "2020-06-17T18:34:10.379846Z",
     "start_time": "2020-06-17T18:34:10.281225Z"
    }
   },
   "outputs": [
    {
     "data": {
      "text/html": [
       "<div>\n",
       "<style scoped>\n",
       "    .dataframe tbody tr th:only-of-type {\n",
       "        vertical-align: middle;\n",
       "    }\n",
       "\n",
       "    .dataframe tbody tr th {\n",
       "        vertical-align: top;\n",
       "    }\n",
       "\n",
       "    .dataframe thead th {\n",
       "        text-align: right;\n",
       "    }\n",
       "</style>\n",
       "<table border=\"1\" class=\"dataframe\">\n",
       "  <thead>\n",
       "    <tr style=\"text-align: right;\">\n",
       "      <th></th>\n",
       "      <th>date</th>\n",
       "      <th>ra_2</th>\n",
       "      <th>de_2</th>\n",
       "      <th>r_AU_2</th>\n",
       "    </tr>\n",
       "  </thead>\n",
       "  <tbody>\n",
       "    <tr>\n",
       "      <th>0</th>\n",
       "      <td>1985/11/15</td>\n",
       "      <td>1.051029</td>\n",
       "      <td>0.385121</td>\n",
       "      <td>0.737435</td>\n",
       "    </tr>\n",
       "    <tr>\n",
       "      <th>1</th>\n",
       "      <td>1985/11/25</td>\n",
       "      <td>0.591834</td>\n",
       "      <td>0.321262</td>\n",
       "      <td>0.623412</td>\n",
       "    </tr>\n",
       "    <tr>\n",
       "      <th>2</th>\n",
       "      <td>1985/12/05</td>\n",
       "      <td>0.127020</td>\n",
       "      <td>0.186144</td>\n",
       "      <td>0.665678</td>\n",
       "    </tr>\n",
       "    <tr>\n",
       "      <th>3</th>\n",
       "      <td>1985/12/15</td>\n",
       "      <td>6.102393</td>\n",
       "      <td>0.068155</td>\n",
       "      <td>0.821428</td>\n",
       "    </tr>\n",
       "    <tr>\n",
       "      <th>4</th>\n",
       "      <td>1985/12/25</td>\n",
       "      <td>5.921652</td>\n",
       "      <td>-0.005604</td>\n",
       "      <td>1.019386</td>\n",
       "    </tr>\n",
       "  </tbody>\n",
       "</table>\n",
       "</div>"
      ],
      "text/plain": [
       "         date      ra_2      de_2    r_AU_2\n",
       "0  1985/11/15  1.051029  0.385121  0.737435\n",
       "1  1985/11/25  0.591834  0.321262  0.623412\n",
       "2  1985/12/05  0.127020  0.186144  0.665678\n",
       "3  1985/12/15  6.102393  0.068155  0.821428\n",
       "4  1985/12/25  5.921652 -0.005604  1.019386"
      ]
     },
     "execution_count": 24,
     "metadata": {},
     "output_type": "execute_result"
    }
   ],
   "source": [
    "TESTDATA2 = StringIO(\"\"\"col1 col2 col3 col4 col5 col6 col7 col8 \n",
    "0   1985/11/15   232.8   57.0   0.6  1.7203  04h00m52.687s  +22°03'57\"  0.737435\n",
    "1   1985/11/25   242.9   53.2   1.8  1.5730  02h15m38.297s  +18°24'25\"  0.623412\n",
    "2   1985/12/05   253.0   48.7   3.2  1.4226  00h29m06.654s  +10°39'55\"  0.665678\n",
    "3   1985/12/15   263.2   43.1   5.0  1.2695  23h18m33.924s  +03°54'18\"  0.821428\n",
    "4   1985/12/25   273.3   35.9   7.1  1.1149  22h37m08.566s  -00°19'16\"  1.019386\n",
    "5   1986/01/04   283.5   26.3   9.8  0.9613  22h10m46.849s  -02°59'41\"  1.216584\n",
    "6   1986/01/14   293.7   12.8  13.0  0.8147  21h51m09.059s  -04°57'58\"  1.387923\n",
    "7   1986/01/24   303.9  353.4  16.2  0.6878  21h33m36.228s  -06°46'47\"  1.511729\n",
    "8   1986/02/03   314.1  326.4  17.7  0.6041  21h15m43.488s  -08°48'31\"  1.563412\n",
    "9   1986/02/13   324.2  294.9  14.9  0.5921  20h57m21.605s  -11°14'58\"  1.520346\n",
    "10  1986/02/23   334.3  267.3   8.7  0.6572  20h39m43.300s  -14°08'15\"  1.383475\n",
    "11  1986/03/05   344.3  247.1   2.6  0.7744  20h22m21.966s  -17°38'36\"  1.179345\n",
    "\"\"\")\n",
    "df2 = dc.read_my_df(TESTDATA2)\n",
    "df2.head()"
   ]
  },
  {
   "cell_type": "code",
   "execution_count": 25,
   "metadata": {
    "ExecuteTime": {
     "end_time": "2020-06-17T18:34:11.652914Z",
     "start_time": "2020-06-17T18:34:11.559583Z"
    }
   },
   "outputs": [
    {
     "data": {
      "text/html": [
       "<div>\n",
       "<style scoped>\n",
       "    .dataframe tbody tr th:only-of-type {\n",
       "        vertical-align: middle;\n",
       "    }\n",
       "\n",
       "    .dataframe tbody tr th {\n",
       "        vertical-align: top;\n",
       "    }\n",
       "\n",
       "    .dataframe thead th {\n",
       "        text-align: right;\n",
       "    }\n",
       "</style>\n",
       "<table border=\"1\" class=\"dataframe\">\n",
       "  <thead>\n",
       "    <tr style=\"text-align: right;\">\n",
       "      <th></th>\n",
       "      <th>date</th>\n",
       "      <th>ra_1</th>\n",
       "      <th>de_1</th>\n",
       "      <th>r_AU_1</th>\n",
       "      <th>ra_2</th>\n",
       "      <th>de_2</th>\n",
       "      <th>r_AU_2</th>\n",
       "      <th>dist_ss</th>\n",
       "      <th>diff_rAU</th>\n",
       "      <th>dist_ss^2</th>\n",
       "      <th>diff_rAU^2</th>\n",
       "    </tr>\n",
       "  </thead>\n",
       "  <tbody>\n",
       "    <tr>\n",
       "      <th>0</th>\n",
       "      <td>1985/11/15</td>\n",
       "      <td>1.050321</td>\n",
       "      <td>0.385206</td>\n",
       "      <td>0.737185</td>\n",
       "      <td>1.051029</td>\n",
       "      <td>0.385121</td>\n",
       "      <td>0.737435</td>\n",
       "      <td>136.481143</td>\n",
       "      <td>0.000250</td>\n",
       "      <td>18627.102531</td>\n",
       "      <td>6.239790e-08</td>\n",
       "    </tr>\n",
       "    <tr>\n",
       "      <th>1</th>\n",
       "      <td>1985/11/25</td>\n",
       "      <td>0.590874</td>\n",
       "      <td>0.321202</td>\n",
       "      <td>0.623330</td>\n",
       "      <td>0.591834</td>\n",
       "      <td>0.321262</td>\n",
       "      <td>0.623412</td>\n",
       "      <td>188.237912</td>\n",
       "      <td>0.000082</td>\n",
       "      <td>35433.511559</td>\n",
       "      <td>6.646845e-09</td>\n",
       "    </tr>\n",
       "    <tr>\n",
       "      <th>2</th>\n",
       "      <td>1985/12/05</td>\n",
       "      <td>0.126158</td>\n",
       "      <td>0.185981</td>\n",
       "      <td>0.665798</td>\n",
       "      <td>0.127020</td>\n",
       "      <td>0.186144</td>\n",
       "      <td>0.665678</td>\n",
       "      <td>177.942107</td>\n",
       "      <td>0.000120</td>\n",
       "      <td>31663.393348</td>\n",
       "      <td>1.430710e-08</td>\n",
       "    </tr>\n",
       "    <tr>\n",
       "      <th>3</th>\n",
       "      <td>1985/12/15</td>\n",
       "      <td>6.101754</td>\n",
       "      <td>0.068005</td>\n",
       "      <td>0.821658</td>\n",
       "      <td>6.102393</td>\n",
       "      <td>0.068155</td>\n",
       "      <td>0.821428</td>\n",
       "      <td>135.037658</td>\n",
       "      <td>0.000230</td>\n",
       "      <td>18235.168957</td>\n",
       "      <td>5.305022e-08</td>\n",
       "    </tr>\n",
       "    <tr>\n",
       "      <th>4</th>\n",
       "      <td>1985/12/25</td>\n",
       "      <td>5.921157</td>\n",
       "      <td>-0.005725</td>\n",
       "      <td>1.019648</td>\n",
       "      <td>5.921652</td>\n",
       "      <td>-0.005604</td>\n",
       "      <td>1.019386</td>\n",
       "      <td>105.081129</td>\n",
       "      <td>0.000262</td>\n",
       "      <td>11042.043745</td>\n",
       "      <td>6.873581e-08</td>\n",
       "    </tr>\n",
       "  </tbody>\n",
       "</table>\n",
       "</div>"
      ],
      "text/plain": [
       "         date      ra_1      de_1    r_AU_1      ra_2      de_2    r_AU_2  \\\n",
       "0  1985/11/15  1.050321  0.385206  0.737185  1.051029  0.385121  0.737435   \n",
       "1  1985/11/25  0.590874  0.321202  0.623330  0.591834  0.321262  0.623412   \n",
       "2  1985/12/05  0.126158  0.185981  0.665798  0.127020  0.186144  0.665678   \n",
       "3  1985/12/15  6.101754  0.068005  0.821658  6.102393  0.068155  0.821428   \n",
       "4  1985/12/25  5.921157 -0.005725  1.019648  5.921652 -0.005604  1.019386   \n",
       "\n",
       "      dist_ss  diff_rAU     dist_ss^2    diff_rAU^2  \n",
       "0  136.481143  0.000250  18627.102531  6.239790e-08  \n",
       "1  188.237912  0.000082  35433.511559  6.646845e-09  \n",
       "2  177.942107  0.000120  31663.393348  1.430710e-08  \n",
       "3  135.037658  0.000230  18235.168957  5.305022e-08  \n",
       "4  105.081129  0.000262  11042.043745  6.873581e-08  "
      ]
     },
     "execution_count": 25,
     "metadata": {},
     "output_type": "execute_result"
    }
   ],
   "source": [
    "df = df1.merge(df2, on='date')\n",
    "df['dist_ss'] = df.apply(lambda x: ut.angular_distance(x['ra_1'],x['de_1'],x['ra_2'],x['de_2']), axis=1).map(np.rad2deg)*3600.0\n",
    "df['diff_rAU'] = np.abs(df['r_AU_1'] - df['r_AU_2'])\n",
    "df['dist_ss^2'] = df['dist_ss'] * df['dist_ss']\n",
    "df['diff_rAU^2'] = df['diff_rAU'] * df['diff_rAU']\n",
    "df.head()"
   ]
  },
  {
   "cell_type": "code",
   "execution_count": 26,
   "metadata": {
    "ExecuteTime": {
     "end_time": "2020-06-17T18:34:12.295567Z",
     "start_time": "2020-06-17T18:34:12.231863Z"
    }
   },
   "outputs": [
    {
     "data": {
      "text/plain": [
       "396.67848390541155"
      ]
     },
     "execution_count": 26,
     "metadata": {},
     "output_type": "execute_result"
    }
   ],
   "source": [
    "np.sqrt(sum(df['dist_ss^2']))"
   ]
  },
  {
   "cell_type": "code",
   "execution_count": 23,
   "metadata": {
    "ExecuteTime": {
     "end_time": "2020-06-17T18:24:09.372607Z",
     "start_time": "2020-06-17T18:24:09.308962Z"
    }
   },
   "outputs": [
    {
     "data": {
      "text/plain": [
       "0.0004648149922297229"
      ]
     },
     "execution_count": 23,
     "metadata": {},
     "output_type": "execute_result"
    }
   ],
   "source": [
    "sum(np.sqrt(df['diff_rAU^2']))"
   ]
  },
  {
   "cell_type": "code",
   "execution_count": 38,
   "metadata": {
    "ExecuteTime": {
     "end_time": "2020-06-25T16:39:40.471010Z",
     "start_time": "2020-06-25T16:39:40.373045Z"
    }
   },
   "outputs": [
    {
     "data": {
      "text/html": [
       "<div>\n",
       "<style scoped>\n",
       "    .dataframe tbody tr th:only-of-type {\n",
       "        vertical-align: middle;\n",
       "    }\n",
       "\n",
       "    .dataframe tbody tr th {\n",
       "        vertical-align: top;\n",
       "    }\n",
       "\n",
       "    .dataframe thead th {\n",
       "        text-align: right;\n",
       "    }\n",
       "</style>\n",
       "<table border=\"1\" class=\"dataframe\">\n",
       "  <thead>\n",
       "    <tr style=\"text-align: right;\">\n",
       "      <th></th>\n",
       "      <th>jd</th>\n",
       "      <th>ra</th>\n",
       "      <th>dec</th>\n",
       "    </tr>\n",
       "  </thead>\n",
       "  <tbody>\n",
       "    <tr>\n",
       "      <th>0</th>\n",
       "      <td>2.380571e+06</td>\n",
       "      <td>1.675337</td>\n",
       "      <td>0.390212</td>\n",
       "    </tr>\n",
       "    <tr>\n",
       "      <th>1</th>\n",
       "      <td>2.380704e+06</td>\n",
       "      <td>1.768214</td>\n",
       "      <td>0.529825</td>\n",
       "    </tr>\n",
       "    <tr>\n",
       "      <th>2</th>\n",
       "      <td>2.380830e+06</td>\n",
       "      <td>2.128182</td>\n",
       "      <td>0.489502</td>\n",
       "    </tr>\n",
       "  </tbody>\n",
       "</table>\n",
       "</div>"
      ],
      "text/plain": [
       "             jd        ra       dec\n",
       "0  2.380571e+06  1.675337  0.390212\n",
       "1  2.380704e+06  1.768214  0.529825\n",
       "2  2.380830e+06  2.128182  0.489502"
      ]
     },
     "execution_count": 38,
     "metadata": {},
     "output_type": "execute_result"
    }
   ],
   "source": [
    "from io import StringIO\n",
    "import pandas as pd\n",
    "import numpy as np\n",
    "\n",
    "CERES_POINTS = StringIO(\"\"\"year month day fh ra_h ra_m ra_s dec_dg dec_min dec_sec\n",
    "1805 09 05 24.165 6 23 57.54 22 21 27.08 \n",
    "1806 01 17 22.095 6 45 14.69 30 21 24.20 \n",
    "1806 05 23 20.399 8 07 44.60 28 02 47.04\"\"\")\n",
    "exp_dt = {\n",
    "          # \"year\" : object,\n",
    "          # \"month\"  : object,\n",
    "          # \"day\"  : object,\n",
    "          # \"fh\" : object,\n",
    "           \"ra_h\" : object,\n",
    "           \"ra_m\" : object,\n",
    "           \"ra_s\" : object,\n",
    "           \"dec_dg\" : object,\n",
    "           \"dec_min\" : object,\n",
    "           \"dec_sec\" : object }\n",
    "df = pd.read_csv(CERES_POINTS, sep=\"\\s+\", dtype=exp_dt) \n",
    "df['jd'] = df.apply(lambda row: tc.datetime2jd(row['year'], row['month'], row['day'], hour=row['fh']), axis=1)\n",
    "df['ra'] = df['ra_h']+'h'+df['ra_m']+'m'+df['ra_s']+'s'\n",
    "df['ra'] = df['ra'].map(co.make_ra)\n",
    "df['dec'] = df['dec_dg']+'°'+df['dec_min']+'m'+df['dec_sec']+'s'\n",
    "df['dec'] = df['dec'].map(co.make_lat)\n",
    "cols =['jd','ra','dec']\n",
    "df = df[cols]\n",
    "df"
   ]
  },
  {
   "cell_type": "code",
   "execution_count": 23,
   "metadata": {
    "ExecuteTime": {
     "end_time": "2020-06-25T16:31:23.640389Z",
     "start_time": "2020-06-25T16:31:23.549661Z"
    }
   },
   "outputs": [],
   "source": [
    "df['jd'] = df.apply(lambda row: tc.datetime2jd(row['year'], row['month'], row['day'], hour=row['fh']), axis=1)"
   ]
  },
  {
   "cell_type": "code",
   "execution_count": 25,
   "metadata": {
    "ExecuteTime": {
     "end_time": "2020-06-25T16:33:03.879059Z",
     "start_time": "2020-06-25T16:33:03.822635Z"
    }
   },
   "outputs": [],
   "source": [
    "df['mjd'] = df['jd'].map(tc.jd2mjd)"
   ]
  },
  {
   "cell_type": "code",
   "execution_count": 31,
   "metadata": {
    "ExecuteTime": {
     "end_time": "2020-06-25T16:36:34.880364Z",
     "start_time": "2020-06-25T16:36:34.819591Z"
    }
   },
   "outputs": [],
   "source": [
    "df['ra'] = df['ra_h']+'h'+df['ra_m']+'m'+df['ra_s']+'s'\n",
    "df['ra'] = df['ra'].map(co.make_ra)"
   ]
  },
  {
   "cell_type": "code",
   "execution_count": 36,
   "metadata": {
    "ExecuteTime": {
     "end_time": "2020-06-25T16:38:14.806353Z",
     "start_time": "2020-06-25T16:38:14.754011Z"
    }
   },
   "outputs": [],
   "source": [
    "df['dec'] = df['dec_dg']+'°'+df['dec_min']+'m'+df['dec_sec']+'s'\n",
    "df['dec'] = df['dec'].map(co.make_lat)"
   ]
  },
  {
   "cell_type": "code",
   "execution_count": 39,
   "metadata": {
    "ExecuteTime": {
     "end_time": "2020-06-25T16:44:16.638733Z",
     "start_time": "2020-06-25T16:44:16.561767Z"
    }
   },
   "outputs": [
    {
     "data": {
      "text/html": [
       "<div>\n",
       "<style scoped>\n",
       "    .dataframe tbody tr th:only-of-type {\n",
       "        vertical-align: middle;\n",
       "    }\n",
       "\n",
       "    .dataframe tbody tr th {\n",
       "        vertical-align: top;\n",
       "    }\n",
       "\n",
       "    .dataframe thead th {\n",
       "        text-align: right;\n",
       "    }\n",
       "</style>\n",
       "<table border=\"1\" class=\"dataframe\">\n",
       "  <thead>\n",
       "    <tr style=\"text-align: right;\">\n",
       "      <th></th>\n",
       "      <th>jd</th>\n",
       "      <th>ra</th>\n",
       "      <th>dec</th>\n",
       "    </tr>\n",
       "  </thead>\n",
       "  <tbody>\n",
       "    <tr>\n",
       "      <th>0</th>\n",
       "      <td>2.380571e+06</td>\n",
       "      <td>1.675337</td>\n",
       "      <td>0.390212</td>\n",
       "    </tr>\n",
       "    <tr>\n",
       "      <th>1</th>\n",
       "      <td>2.380704e+06</td>\n",
       "      <td>1.768214</td>\n",
       "      <td>0.529825</td>\n",
       "    </tr>\n",
       "    <tr>\n",
       "      <th>2</th>\n",
       "      <td>2.380830e+06</td>\n",
       "      <td>2.128182</td>\n",
       "      <td>0.489502</td>\n",
       "    </tr>\n",
       "  </tbody>\n",
       "</table>\n",
       "</div>"
      ],
      "text/plain": [
       "             jd        ra       dec\n",
       "0  2.380571e+06  1.675337  0.390212\n",
       "1  2.380704e+06  1.768214  0.529825\n",
       "2  2.380830e+06  2.128182  0.489502"
      ]
     },
     "execution_count": 39,
     "metadata": {},
     "output_type": "execute_result"
    }
   ],
   "source": [
    "df"
   ]
  },
  {
   "cell_type": "code",
   "execution_count": 42,
   "metadata": {
    "ExecuteTime": {
     "end_time": "2020-06-25T16:44:50.631537Z",
     "start_time": "2020-06-25T16:44:50.576971Z"
    }
   },
   "outputs": [],
   "source": [
    "records = list(df.to_records(index=False))\n"
   ]
  },
  {
   "cell_type": "code",
   "execution_count": 43,
   "metadata": {
    "ExecuteTime": {
     "end_time": "2020-06-25T16:44:52.631706Z",
     "start_time": "2020-06-25T16:44:52.570689Z"
    }
   },
   "outputs": [
    {
     "data": {
      "text/plain": [
       "[(2380570.506875, 1.67533719, 0.39021238),\n",
       " (2380704.420625, 1.76821415, 0.52982475),\n",
       " (2380830.34995833, 2.12818177, 0.48950202)]"
      ]
     },
     "execution_count": 43,
     "metadata": {},
     "output_type": "execute_result"
    }
   ],
   "source": [
    "records"
   ]
  },
  {
   "cell_type": "code",
   "execution_count": 44,
   "metadata": {
    "ExecuteTime": {
     "end_time": "2020-06-25T16:47:46.486576Z",
     "start_time": "2020-06-25T16:47:46.424274Z"
    }
   },
   "outputs": [
    {
     "name": "stdout",
     "output_type": "stream",
     "text": [
      "Pandas(jd=2380570.506875, ra=1.6753371856662271, dec=0.3902123753655771)\n",
      "Pandas(jd=2380704.420625, ra=1.7682141545905834, dec=0.5298247528911075)\n",
      "Pandas(jd=2380830.349958333, ra=2.1281817678297195, dec=0.4895020233313377)\n"
     ]
    }
   ],
   "source": [
    "for row in df.itertuples(index=False):\n",
    "    print (row)\n",
    "    "
   ]
  },
  {
   "cell_type": "code",
   "execution_count": 45,
   "metadata": {
    "ExecuteTime": {
     "end_time": "2020-06-25T17:32:14.492888Z",
     "start_time": "2020-06-25T17:32:14.433239Z"
    }
   },
   "outputs": [
    {
     "data": {
      "text/html": [
       "<div>\n",
       "<style scoped>\n",
       "    .dataframe tbody tr th:only-of-type {\n",
       "        vertical-align: middle;\n",
       "    }\n",
       "\n",
       "    .dataframe tbody tr th {\n",
       "        vertical-align: top;\n",
       "    }\n",
       "\n",
       "    .dataframe thead th {\n",
       "        text-align: right;\n",
       "    }\n",
       "</style>\n",
       "<table border=\"1\" class=\"dataframe\">\n",
       "  <thead>\n",
       "    <tr style=\"text-align: right;\">\n",
       "      <th></th>\n",
       "      <th>jd</th>\n",
       "      <th>ra</th>\n",
       "      <th>dec</th>\n",
       "    </tr>\n",
       "  </thead>\n",
       "  <tbody>\n",
       "    <tr>\n",
       "      <th>0</th>\n",
       "      <td>2.380571e+06</td>\n",
       "      <td>1.675337</td>\n",
       "      <td>0.390212</td>\n",
       "    </tr>\n",
       "    <tr>\n",
       "      <th>1</th>\n",
       "      <td>2.380704e+06</td>\n",
       "      <td>1.768214</td>\n",
       "      <td>0.529825</td>\n",
       "    </tr>\n",
       "    <tr>\n",
       "      <th>2</th>\n",
       "      <td>2.380830e+06</td>\n",
       "      <td>2.128182</td>\n",
       "      <td>0.489502</td>\n",
       "    </tr>\n",
       "  </tbody>\n",
       "</table>\n",
       "</div>"
      ],
      "text/plain": [
       "             jd        ra       dec\n",
       "0  2.380571e+06  1.675337  0.390212\n",
       "1  2.380704e+06  1.768214  0.529825\n",
       "2  2.380830e+06  2.128182  0.489502"
      ]
     },
     "execution_count": 45,
     "metadata": {},
     "output_type": "execute_result"
    }
   ],
   "source": [
    "df"
   ]
  },
  {
   "cell_type": "code",
   "execution_count": 47,
   "metadata": {
    "ExecuteTime": {
     "end_time": "2020-06-25T17:33:23.909171Z",
     "start_time": "2020-06-25T17:33:23.860739Z"
    }
   },
   "outputs": [],
   "source": [
    "df.columns=['a','b','c']"
   ]
  },
  {
   "cell_type": "code",
   "execution_count": 48,
   "metadata": {
    "ExecuteTime": {
     "end_time": "2020-06-25T17:33:26.983654Z",
     "start_time": "2020-06-25T17:33:26.927304Z"
    }
   },
   "outputs": [
    {
     "data": {
      "text/html": [
       "<div>\n",
       "<style scoped>\n",
       "    .dataframe tbody tr th:only-of-type {\n",
       "        vertical-align: middle;\n",
       "    }\n",
       "\n",
       "    .dataframe tbody tr th {\n",
       "        vertical-align: top;\n",
       "    }\n",
       "\n",
       "    .dataframe thead th {\n",
       "        text-align: right;\n",
       "    }\n",
       "</style>\n",
       "<table border=\"1\" class=\"dataframe\">\n",
       "  <thead>\n",
       "    <tr style=\"text-align: right;\">\n",
       "      <th></th>\n",
       "      <th>a</th>\n",
       "      <th>b</th>\n",
       "      <th>c</th>\n",
       "    </tr>\n",
       "  </thead>\n",
       "  <tbody>\n",
       "    <tr>\n",
       "      <th>0</th>\n",
       "      <td>2.380571e+06</td>\n",
       "      <td>1.675337</td>\n",
       "      <td>0.390212</td>\n",
       "    </tr>\n",
       "    <tr>\n",
       "      <th>1</th>\n",
       "      <td>2.380704e+06</td>\n",
       "      <td>1.768214</td>\n",
       "      <td>0.529825</td>\n",
       "    </tr>\n",
       "    <tr>\n",
       "      <th>2</th>\n",
       "      <td>2.380830e+06</td>\n",
       "      <td>2.128182</td>\n",
       "      <td>0.489502</td>\n",
       "    </tr>\n",
       "  </tbody>\n",
       "</table>\n",
       "</div>"
      ],
      "text/plain": [
       "              a         b         c\n",
       "0  2.380571e+06  1.675337  0.390212\n",
       "1  2.380704e+06  1.768214  0.529825\n",
       "2  2.380830e+06  2.128182  0.489502"
      ]
     },
     "execution_count": 48,
     "metadata": {},
     "output_type": "execute_result"
    }
   ],
   "source": [
    "df"
   ]
  },
  {
   "cell_type": "code",
   "execution_count": 50,
   "metadata": {
    "ExecuteTime": {
     "end_time": "2020-06-25T17:40:47.891489Z",
     "start_time": "2020-06-25T17:40:47.838715Z"
    }
   },
   "outputs": [],
   "source": [
    "from cluegen import Datum\n",
    "\n",
    "class Coordinates(Datum):\n",
    "    x: int\n",
    "    y: int"
   ]
  },
  {
   "cell_type": "code",
   "execution_count": 54,
   "metadata": {
    "ExecuteTime": {
     "end_time": "2020-06-25T17:42:10.543779Z",
     "start_time": "2020-06-25T17:42:10.492262Z"
    }
   },
   "outputs": [],
   "source": [
    "def kk():\n",
    "    value = Coordinates(0,0)\n",
    "    value.x = 3\n",
    "    value.y = 8\n",
    "    return value"
   ]
  },
  {
   "cell_type": "code",
   "execution_count": 55,
   "metadata": {
    "ExecuteTime": {
     "end_time": "2020-06-25T17:42:11.177135Z",
     "start_time": "2020-06-25T17:42:11.128274Z"
    }
   },
   "outputs": [
    {
     "name": "stdout",
     "output_type": "stream",
     "text": [
      "Coordinates(x=3, y=8)\n"
     ]
    }
   ],
   "source": [
    "print (kk())"
   ]
  },
  {
   "cell_type": "code",
   "execution_count": 59,
   "metadata": {
    "ExecuteTime": {
     "end_time": "2020-06-25T19:07:52.390256Z",
     "start_time": "2020-06-25T19:07:52.339225Z"
    }
   },
   "outputs": [
    {
     "name": "stdout",
     "output_type": "stream",
     "text": [
      "1\n",
      "2\n",
      "3\n",
      "4\n",
      "5\n",
      "6\n",
      "7\n",
      "8\n",
      "9\n",
      "10\n"
     ]
    }
   ],
   "source": [
    "from itertools import count\n",
    "\n",
    "for i in count(1):\n",
    "    if i> 10 :\n",
    "        break\n",
    "    print (i)"
   ]
  },
  {
   "cell_type": "code",
   "execution_count": null,
   "metadata": {},
   "outputs": [],
   "source": []
  }
 ],
 "metadata": {
  "kernelspec": {
   "display_name": "py37_astro",
   "language": "python",
   "name": "py37_astro"
  },
  "language_info": {
   "codemirror_mode": {
    "name": "ipython",
    "version": 3
   },
   "file_extension": ".py",
   "mimetype": "text/x-python",
   "name": "python",
   "nbconvert_exporter": "python",
   "pygments_lexer": "ipython3",
   "version": "3.7.11"
  }
 },
 "nbformat": 4,
 "nbformat_minor": 4
}
