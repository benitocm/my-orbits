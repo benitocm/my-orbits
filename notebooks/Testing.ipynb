{
 "cells": [
  {
   "cell_type": "code",
   "execution_count": 37,
   "metadata": {
    "ExecuteTime": {
     "end_time": "2021-10-24T18:36:18.601764Z",
     "start_time": "2021-10-24T18:36:18.459666Z"
    }
   },
   "outputs": [
    {
     "name": "stdout",
     "output_type": "stream",
     "text": [
      "The autoreload extension is already loaded. To reload it, use:\n",
      "  %reload_ext autoreload\n"
     ]
    }
   ],
   "source": [
    "import pandas as pd\n",
    "import numpy as np\n",
    "from myorbit import data_catalog as tc\n",
    "import myorbit.data_catalog as dc\n",
    "import myorbit.util.timeut as ut\n",
    "from myorbit.util.constants import *\n",
    "%load_ext autoreload\n",
    "%autoreload 2"
   ]
  },
  {
   "cell_type": "code",
   "execution_count": 63,
   "metadata": {
    "ExecuteTime": {
     "end_time": "2021-10-25T19:06:07.605933Z",
     "start_time": "2021-10-25T19:06:07.554990Z"
    }
   },
   "outputs": [],
   "source": [
    "def f1(x):\n",
    "    return -3*x+7"
   ]
  },
  {
   "cell_type": "code",
   "execution_count": 66,
   "metadata": {
    "ExecuteTime": {
     "end_time": "2021-10-25T19:06:26.649380Z",
     "start_time": "2021-10-25T19:06:26.593074Z"
    }
   },
   "outputs": [
    {
     "name": "stdout",
     "output_type": "stream",
     "text": [
      "-17\n"
     ]
    }
   ],
   "source": [
    "print(f1(8))"
   ]
  },
  {
   "cell_type": "code",
   "execution_count": 82,
   "metadata": {
    "ExecuteTime": {
     "end_time": "2021-10-25T20:27:19.591555Z",
     "start_time": "2021-10-25T20:27:19.358662Z"
    }
   },
   "outputs": [
    {
     "data": {
      "text/plain": [
       "2.777777777777778e-05"
      ]
     },
     "execution_count": 82,
     "metadata": {},
     "output_type": "execute_result"
    }
   ],
   "source": [
    "ut.hms2h (0,0,0.1)\n"
   ]
  },
  {
   "cell_type": "code",
   "execution_count": 83,
   "metadata": {
    "ExecuteTime": {
     "end_time": "2021-10-25T20:27:34.573945Z",
     "start_time": "2021-10-25T20:27:34.343135Z"
    }
   },
   "outputs": [
    {
     "data": {
      "text/plain": [
       "(0.0, 0.0, 0.1, 1)"
      ]
     },
     "execution_count": 83,
     "metadata": {},
     "output_type": "execute_result"
    }
   ],
   "source": [
    "ut.dg2dgms(2.777777777777778e-05)"
   ]
  },
  {
   "cell_type": "code",
   "execution_count": 3,
   "metadata": {
    "ExecuteTime": {
     "end_time": "2021-10-16T07:52:47.343559Z",
     "start_time": "2021-10-16T07:52:47.272515Z"
    }
   },
   "outputs": [
    {
     "data": {
      "text/html": [
       "<div>\n",
       "<style scoped>\n",
       "    .dataframe tbody tr th:only-of-type {\n",
       "        vertical-align: middle;\n",
       "    }\n",
       "\n",
       "    .dataframe tbody tr th {\n",
       "        vertical-align: top;\n",
       "    }\n",
       "\n",
       "    .dataframe thead th {\n",
       "        text-align: right;\n",
       "    }\n",
       "</style>\n",
       "<table border=\"1\" class=\"dataframe\">\n",
       "  <thead>\n",
       "    <tr style=\"text-align: right;\">\n",
       "      <th></th>\n",
       "      <th>Name</th>\n",
       "      <th>Epoch</th>\n",
       "      <th>a</th>\n",
       "      <th>e</th>\n",
       "      <th>i</th>\n",
       "      <th>w</th>\n",
       "      <th>Node</th>\n",
       "      <th>M</th>\n",
       "      <th>H</th>\n",
       "      <th>G</th>\n",
       "      <th>Ref</th>\n",
       "    </tr>\n",
       "  </thead>\n",
       "  <tbody>\n",
       "    <tr>\n",
       "      <th>1</th>\n",
       "      <td>Ceres</td>\n",
       "      <td>59000.0</td>\n",
       "      <td>2.767657</td>\n",
       "      <td>0.077557</td>\n",
       "      <td>10.58862</td>\n",
       "      <td>73.73167</td>\n",
       "      <td>80.28699</td>\n",
       "      <td>162.686252</td>\n",
       "      <td>3.40</td>\n",
       "      <td>0.12</td>\n",
       "      <td>JPL 46</td>\n",
       "    </tr>\n",
       "    <tr>\n",
       "      <th>2</th>\n",
       "      <td>Pallas</td>\n",
       "      <td>59000.0</td>\n",
       "      <td>2.773841</td>\n",
       "      <td>0.229972</td>\n",
       "      <td>34.83293</td>\n",
       "      <td>310.20239</td>\n",
       "      <td>173.02474</td>\n",
       "      <td>144.975678</td>\n",
       "      <td>4.20</td>\n",
       "      <td>0.11</td>\n",
       "      <td>JPL 36</td>\n",
       "    </tr>\n",
       "    <tr>\n",
       "      <th>3</th>\n",
       "      <td>Juno</td>\n",
       "      <td>59000.0</td>\n",
       "      <td>2.668285</td>\n",
       "      <td>0.256936</td>\n",
       "      <td>12.99104</td>\n",
       "      <td>248.06619</td>\n",
       "      <td>169.85148</td>\n",
       "      <td>125.435354</td>\n",
       "      <td>5.33</td>\n",
       "      <td>0.32</td>\n",
       "      <td>JPL 111</td>\n",
       "    </tr>\n",
       "    <tr>\n",
       "      <th>4</th>\n",
       "      <td>Vesta</td>\n",
       "      <td>58600.0</td>\n",
       "      <td>2.361418</td>\n",
       "      <td>0.088721</td>\n",
       "      <td>7.14177</td>\n",
       "      <td>150.72854</td>\n",
       "      <td>103.81080</td>\n",
       "      <td>95.861938</td>\n",
       "      <td>3.00</td>\n",
       "      <td>0.32</td>\n",
       "      <td>JPL 35</td>\n",
       "    </tr>\n",
       "    <tr>\n",
       "      <th>5</th>\n",
       "      <td>Astraea</td>\n",
       "      <td>59000.0</td>\n",
       "      <td>2.574037</td>\n",
       "      <td>0.190913</td>\n",
       "      <td>5.36743</td>\n",
       "      <td>358.64842</td>\n",
       "      <td>141.57103</td>\n",
       "      <td>17.846339</td>\n",
       "      <td>6.90</td>\n",
       "      <td>0.15</td>\n",
       "      <td>JPL 113</td>\n",
       "    </tr>\n",
       "  </tbody>\n",
       "</table>\n",
       "</div>"
      ],
      "text/plain": [
       "      Name    Epoch         a         e         i          w       Node  \\\n",
       "1    Ceres  59000.0  2.767657  0.077557  10.58862   73.73167   80.28699   \n",
       "2   Pallas  59000.0  2.773841  0.229972  34.83293  310.20239  173.02474   \n",
       "3     Juno  59000.0  2.668285  0.256936  12.99104  248.06619  169.85148   \n",
       "4    Vesta  58600.0  2.361418  0.088721   7.14177  150.72854  103.81080   \n",
       "5  Astraea  59000.0  2.574037  0.190913   5.36743  358.64842  141.57103   \n",
       "\n",
       "            M     H     G      Ref  \n",
       "1  162.686252  3.40  0.12   JPL 46  \n",
       "2  144.975678  4.20  0.11   JPL 36  \n",
       "3  125.435354  5.33  0.32  JPL 111  \n",
       "4   95.861938  3.00  0.32   JPL 35  \n",
       "5   17.846339  6.90  0.15  JPL 113  "
      ]
     },
     "execution_count": 3,
     "metadata": {},
     "output_type": "execute_result"
    }
   ],
   "source": [
    "df.head()"
   ]
  },
  {
   "cell_type": "code",
   "execution_count": 16,
   "metadata": {
    "ExecuteTime": {
     "end_time": "2021-10-23T06:41:17.711339Z",
     "start_time": "2021-10-23T06:41:17.592091Z"
    }
   },
   "outputs": [
    {
     "data": {
      "text/html": [
       "<div>\n",
       "<style scoped>\n",
       "    .dataframe tbody tr th:only-of-type {\n",
       "        vertical-align: middle;\n",
       "    }\n",
       "\n",
       "    .dataframe tbody tr th {\n",
       "        vertical-align: top;\n",
       "    }\n",
       "\n",
       "    .dataframe thead th {\n",
       "        text-align: right;\n",
       "    }\n",
       "</style>\n",
       "<table border=\"1\" class=\"dataframe\">\n",
       "  <thead>\n",
       "    <tr style=\"text-align: right;\">\n",
       "      <th></th>\n",
       "      <th>date</th>\n",
       "      <th>ra_1</th>\n",
       "      <th>de_1</th>\n",
       "      <th>r_AU_1</th>\n",
       "    </tr>\n",
       "  </thead>\n",
       "  <tbody>\n",
       "    <tr>\n",
       "      <th>0</th>\n",
       "      <td>1997/06/27</td>\n",
       "      <td>2.325295</td>\n",
       "      <td>-0.000518</td>\n",
       "      <td>23.704620</td>\n",
       "    </tr>\n",
       "    <tr>\n",
       "      <th>1</th>\n",
       "      <td>1997/06/29</td>\n",
       "      <td>2.326368</td>\n",
       "      <td>-0.000560</td>\n",
       "      <td>23.731106</td>\n",
       "    </tr>\n",
       "    <tr>\n",
       "      <th>2</th>\n",
       "      <td>1997/07/01</td>\n",
       "      <td>2.327463</td>\n",
       "      <td>-0.000621</td>\n",
       "      <td>23.756761</td>\n",
       "    </tr>\n",
       "    <tr>\n",
       "      <th>3</th>\n",
       "      <td>1997/07/03</td>\n",
       "      <td>2.328581</td>\n",
       "      <td>-0.000701</td>\n",
       "      <td>23.781562</td>\n",
       "    </tr>\n",
       "    <tr>\n",
       "      <th>4</th>\n",
       "      <td>1997/07/05</td>\n",
       "      <td>2.329721</td>\n",
       "      <td>-0.000799</td>\n",
       "      <td>23.805487</td>\n",
       "    </tr>\n",
       "    <tr>\n",
       "      <th>5</th>\n",
       "      <td>1997/07/07</td>\n",
       "      <td>2.330879</td>\n",
       "      <td>-0.000916</td>\n",
       "      <td>23.828516</td>\n",
       "    </tr>\n",
       "    <tr>\n",
       "      <th>6</th>\n",
       "      <td>1997/07/09</td>\n",
       "      <td>2.332056</td>\n",
       "      <td>-0.001051</td>\n",
       "      <td>23.850632</td>\n",
       "    </tr>\n",
       "    <tr>\n",
       "      <th>7</th>\n",
       "      <td>1997/07/11</td>\n",
       "      <td>2.333249</td>\n",
       "      <td>-0.001204</td>\n",
       "      <td>23.871817</td>\n",
       "    </tr>\n",
       "    <tr>\n",
       "      <th>8</th>\n",
       "      <td>1997/07/13</td>\n",
       "      <td>2.334458</td>\n",
       "      <td>-0.001375</td>\n",
       "      <td>23.892057</td>\n",
       "    </tr>\n",
       "    <tr>\n",
       "      <th>9</th>\n",
       "      <td>1997/07/15</td>\n",
       "      <td>2.335681</td>\n",
       "      <td>-0.001564</td>\n",
       "      <td>23.911340</td>\n",
       "    </tr>\n",
       "    <tr>\n",
       "      <th>10</th>\n",
       "      <td>1997/07/17</td>\n",
       "      <td>2.336917</td>\n",
       "      <td>-0.001770</td>\n",
       "      <td>23.929654</td>\n",
       "    </tr>\n",
       "    <tr>\n",
       "      <th>11</th>\n",
       "      <td>1997/07/19</td>\n",
       "      <td>2.338163</td>\n",
       "      <td>-0.001993</td>\n",
       "      <td>23.946988</td>\n",
       "    </tr>\n",
       "    <tr>\n",
       "      <th>12</th>\n",
       "      <td>1997/07/21</td>\n",
       "      <td>2.339420</td>\n",
       "      <td>-0.002233</td>\n",
       "      <td>23.963334</td>\n",
       "    </tr>\n",
       "    <tr>\n",
       "      <th>13</th>\n",
       "      <td>1997/07/23</td>\n",
       "      <td>2.340686</td>\n",
       "      <td>-0.002489</td>\n",
       "      <td>23.978681</td>\n",
       "    </tr>\n",
       "    <tr>\n",
       "      <th>14</th>\n",
       "      <td>1997/07/25</td>\n",
       "      <td>2.341959</td>\n",
       "      <td>-0.002761</td>\n",
       "      <td>23.993020</td>\n",
       "    </tr>\n",
       "  </tbody>\n",
       "</table>\n",
       "</div>"
      ],
      "text/plain": [
       "          date      ra_1      de_1     r_AU_1\n",
       "0   1997/06/27  2.325295 -0.000518  23.704620\n",
       "1   1997/06/29  2.326368 -0.000560  23.731106\n",
       "2   1997/07/01  2.327463 -0.000621  23.756761\n",
       "3   1997/07/03  2.328581 -0.000701  23.781562\n",
       "4   1997/07/05  2.329721 -0.000799  23.805487\n",
       "5   1997/07/07  2.330879 -0.000916  23.828516\n",
       "6   1997/07/09  2.332056 -0.001051  23.850632\n",
       "7   1997/07/11  2.333249 -0.001204  23.871817\n",
       "8   1997/07/13  2.334458 -0.001375  23.892057\n",
       "9   1997/07/15  2.335681 -0.001564  23.911340\n",
       "10  1997/07/17  2.336917 -0.001770  23.929654\n",
       "11  1997/07/19  2.338163 -0.001993  23.946988\n",
       "12  1997/07/21  2.339420 -0.002233  23.963334\n",
       "13  1997/07/23  2.340686 -0.002489  23.978681\n",
       "14  1997/07/25  2.341959 -0.002761  23.993020"
      ]
     },
     "execution_count": 16,
     "metadata": {},
     "output_type": "execute_result"
    }
   ],
   "source": [
    "fn='/home/anybody/projs/my-orbits/tests/data/jpl_halley_1997-Jun-27_1997-Jul-25.csv'\n",
    "df= dc.read_jpl_data(fn)\n",
    "df"
   ]
  },
  {
   "cell_type": "code",
   "execution_count": 9,
   "metadata": {
    "ExecuteTime": {
     "end_time": "2021-10-23T05:35:26.685619Z",
     "start_time": "2021-10-23T05:35:26.628216Z"
    }
   },
   "outputs": [
    {
     "data": {
      "text/html": [
       "<div>\n",
       "<style scoped>\n",
       "    .dataframe tbody tr th:only-of-type {\n",
       "        vertical-align: middle;\n",
       "    }\n",
       "\n",
       "    .dataframe tbody tr th {\n",
       "        vertical-align: top;\n",
       "    }\n",
       "\n",
       "    .dataframe thead th {\n",
       "        text-align: right;\n",
       "    }\n",
       "</style>\n",
       "<table border=\"1\" class=\"dataframe\">\n",
       "  <thead>\n",
       "    <tr style=\"text-align: right;\">\n",
       "      <th></th>\n",
       "      <th>date</th>\n",
       "      <th>col2</th>\n",
       "      <th>col3</th>\n",
       "      <th>col5</th>\n",
       "      <th>col6</th>\n",
       "      <th>col7</th>\n",
       "      <th>col8</th>\n",
       "      <th>col9</th>\n",
       "      <th>col10</th>\n",
       "      <th>col11</th>\n",
       "      <th>col12</th>\n",
       "      <th>col13</th>\n",
       "      <th>col14</th>\n",
       "      <th>col15</th>\n",
       "    </tr>\n",
       "  </thead>\n",
       "  <tbody>\n",
       "    <tr>\n",
       "      <th>1992-Jun-27</th>\n",
       "      <td>00:00</td>\n",
       "      <td>20</td>\n",
       "      <td>55</td>\n",
       "      <td>54.42</td>\n",
       "      <td>-27</td>\n",
       "      <td>0</td>\n",
       "      <td>49.8</td>\n",
       "      <td>8.154</td>\n",
       "      <td>6.948</td>\n",
       "      <td>2.042410</td>\n",
       "      <td>-12.077106</td>\n",
       "      <td>145.7330</td>\n",
       "      <td>/L</td>\n",
       "      <td>11.2360</td>\n",
       "    </tr>\n",
       "    <tr>\n",
       "      <th>1992-Jun-29</th>\n",
       "      <td>00:00</td>\n",
       "      <td>20</td>\n",
       "      <td>54</td>\n",
       "      <td>53.30</td>\n",
       "      <td>-27</td>\n",
       "      <td>13</td>\n",
       "      <td>50.7</td>\n",
       "      <td>8.116</td>\n",
       "      <td>6.925</td>\n",
       "      <td>2.029145</td>\n",
       "      <td>-11.299293</td>\n",
       "      <td>147.7868</td>\n",
       "      <td>/L</td>\n",
       "      <td>10.6284</td>\n",
       "    </tr>\n",
       "    <tr>\n",
       "      <th>1992-Jul-01</th>\n",
       "      <td>00:00</td>\n",
       "      <td>20</td>\n",
       "      <td>53</td>\n",
       "      <td>46.62</td>\n",
       "      <td>-27</td>\n",
       "      <td>27</td>\n",
       "      <td>0.6</td>\n",
       "      <td>8.078</td>\n",
       "      <td>6.901</td>\n",
       "      <td>2.016783</td>\n",
       "      <td>-10.494565</td>\n",
       "      <td>149.8412</td>\n",
       "      <td>/L</td>\n",
       "      <td>10.0081</td>\n",
       "    </tr>\n",
       "    <tr>\n",
       "      <th>1992-Jul-03</th>\n",
       "      <td>00:00</td>\n",
       "      <td>20</td>\n",
       "      <td>52</td>\n",
       "      <td>34.58</td>\n",
       "      <td>-27</td>\n",
       "      <td>40</td>\n",
       "      <td>16.8</td>\n",
       "      <td>8.039</td>\n",
       "      <td>6.876</td>\n",
       "      <td>2.005354</td>\n",
       "      <td>-9.665313</td>\n",
       "      <td>151.8906</td>\n",
       "      <td>/L</td>\n",
       "      <td>9.3776</td>\n",
       "    </tr>\n",
       "    <tr>\n",
       "      <th>1992-Jul-05</th>\n",
       "      <td>00:00</td>\n",
       "      <td>20</td>\n",
       "      <td>51</td>\n",
       "      <td>17.44</td>\n",
       "      <td>-27</td>\n",
       "      <td>53</td>\n",
       "      <td>36.6</td>\n",
       "      <td>8.001</td>\n",
       "      <td>6.850</td>\n",
       "      <td>1.994883</td>\n",
       "      <td>-8.814622</td>\n",
       "      <td>153.9283</td>\n",
       "      <td>/L</td>\n",
       "      <td>8.7401</td>\n",
       "    </tr>\n",
       "  </tbody>\n",
       "</table>\n",
       "</div>"
      ],
      "text/plain": [
       "              date  col2  col3   col5 col6  col7  col8   col9  col10  \\\n",
       "1992-Jun-27  00:00    20    55  54.42  -27     0  49.8  8.154  6.948   \n",
       "1992-Jun-29  00:00    20    54  53.30  -27    13  50.7  8.116  6.925   \n",
       "1992-Jul-01  00:00    20    53  46.62  -27    27   0.6  8.078  6.901   \n",
       "1992-Jul-03  00:00    20    52  34.58  -27    40  16.8  8.039  6.876   \n",
       "1992-Jul-05  00:00    20    51  17.44  -27    53  36.6  8.001  6.850   \n",
       "\n",
       "                col11      col12     col13 col14    col15  \n",
       "1992-Jun-27  2.042410 -12.077106  145.7330    /L  11.2360  \n",
       "1992-Jun-29  2.029145 -11.299293  147.7868    /L  10.6284  \n",
       "1992-Jul-01  2.016783 -10.494565  149.8412    /L  10.0081  \n",
       "1992-Jul-03  2.005354  -9.665313  151.8906    /L   9.3776  \n",
       "1992-Jul-05  1.994883  -8.814622  153.9283    /L   8.7401  "
      ]
     },
     "execution_count": 9,
     "metadata": {},
     "output_type": "execute_result"
    }
   ],
   "source": [
    "df.head()"
   ]
  },
  {
   "cell_type": "code",
   "execution_count": 28,
   "metadata": {
    "ExecuteTime": {
     "end_time": "2021-10-23T07:52:55.583674Z",
     "start_time": "2021-10-23T07:52:55.536721Z"
    }
   },
   "outputs": [
    {
     "ename": "NameError",
     "evalue": "name '__file__' is not defined",
     "output_type": "error",
     "traceback": [
      "\u001b[0;31m---------------------------------------------------------------------------\u001b[0m",
      "\u001b[0;31mNameError\u001b[0m                                 Traceback (most recent call last)",
      "\u001b[0;32m<ipython-input-28-101c10133864>\u001b[0m in \u001b[0;36m<module>\u001b[0;34m\u001b[0m\n\u001b[1;32m      1\u001b[0m \u001b[0;32mimport\u001b[0m \u001b[0mpathlib\u001b[0m\u001b[0;34m\u001b[0m\u001b[0;34m\u001b[0m\u001b[0m\n\u001b[0;32m----> 2\u001b[0;31m \u001b[0mprint\u001b[0m\u001b[0;34m(\u001b[0m\u001b[0mpathlib\u001b[0m\u001b[0;34m.\u001b[0m\u001b[0mPath\u001b[0m\u001b[0;34m(\u001b[0m\u001b[0m__file__\u001b[0m\u001b[0;34m)\u001b[0m\u001b[0;34m)\u001b[0m\u001b[0;34m\u001b[0m\u001b[0;34m\u001b[0m\u001b[0m\n\u001b[0m",
      "\u001b[0;31mNameError\u001b[0m: name '__file__' is not defined"
     ]
    }
   ],
   "source": [
    "import pathlib\n",
    "print(pathlib.Path(__file__))"
   ]
  },
  {
   "cell_type": "code",
   "execution_count": 34,
   "metadata": {
    "ExecuteTime": {
     "end_time": "2021-10-23T10:16:21.371809Z",
     "start_time": "2021-10-23T10:16:21.326439Z"
    }
   },
   "outputs": [
    {
     "name": "stdout",
     "output_type": "stream",
     "text": [
      "2.0015998343868837\n"
     ]
    }
   ],
   "source": [
    "x=0.0000001\n",
    "print (x*np.sin(x)/(1-np.cos(x)))"
   ]
  },
  {
   "cell_type": "code",
   "execution_count": null,
   "metadata": {},
   "outputs": [],
   "source": []
  }
 ],
 "metadata": {
  "kernelspec": {
   "display_name": "py37astro",
   "language": "python",
   "name": "py37astro"
  },
  "language_info": {
   "codemirror_mode": {
    "name": "ipython",
    "version": 3
   },
   "file_extension": ".py",
   "mimetype": "text/x-python",
   "name": "python",
   "nbconvert_exporter": "python",
   "pygments_lexer": "ipython3",
   "version": "3.7.7"
  }
 },
 "nbformat": 4,
 "nbformat_minor": 4
}
