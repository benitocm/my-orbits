{
 "cells": [
  {
   "cell_type": "code",
   "execution_count": 1,
   "metadata": {
    "ExecuteTime": {
     "end_time": "2021-10-16T07:52:45.228532Z",
     "start_time": "2021-10-16T07:52:37.851319Z"
    }
   },
   "outputs": [],
   "source": [
    "from myorbit import data_catalog as tc\n",
    "%load_ext autoreload\n",
    "%autoreload 2"
   ]
  },
  {
   "cell_type": "code",
   "execution_count": 2,
   "metadata": {
    "ExecuteTime": {
     "end_time": "2021-10-16T07:52:45.976878Z",
     "start_time": "2021-10-16T07:52:45.934168Z"
    }
   },
   "outputs": [],
   "source": [
    "df = tc.DF_BODYS"
   ]
  },
  {
   "cell_type": "code",
   "execution_count": 3,
   "metadata": {
    "ExecuteTime": {
     "end_time": "2021-10-16T07:52:47.343559Z",
     "start_time": "2021-10-16T07:52:47.272515Z"
    }
   },
   "outputs": [
    {
     "data": {
      "text/html": [
       "<div>\n",
       "<style scoped>\n",
       "    .dataframe tbody tr th:only-of-type {\n",
       "        vertical-align: middle;\n",
       "    }\n",
       "\n",
       "    .dataframe tbody tr th {\n",
       "        vertical-align: top;\n",
       "    }\n",
       "\n",
       "    .dataframe thead th {\n",
       "        text-align: right;\n",
       "    }\n",
       "</style>\n",
       "<table border=\"1\" class=\"dataframe\">\n",
       "  <thead>\n",
       "    <tr style=\"text-align: right;\">\n",
       "      <th></th>\n",
       "      <th>Name</th>\n",
       "      <th>Epoch</th>\n",
       "      <th>a</th>\n",
       "      <th>e</th>\n",
       "      <th>i</th>\n",
       "      <th>w</th>\n",
       "      <th>Node</th>\n",
       "      <th>M</th>\n",
       "      <th>H</th>\n",
       "      <th>G</th>\n",
       "      <th>Ref</th>\n",
       "    </tr>\n",
       "  </thead>\n",
       "  <tbody>\n",
       "    <tr>\n",
       "      <th>1</th>\n",
       "      <td>Ceres</td>\n",
       "      <td>59000.0</td>\n",
       "      <td>2.767657</td>\n",
       "      <td>0.077557</td>\n",
       "      <td>10.58862</td>\n",
       "      <td>73.73167</td>\n",
       "      <td>80.28699</td>\n",
       "      <td>162.686252</td>\n",
       "      <td>3.40</td>\n",
       "      <td>0.12</td>\n",
       "      <td>JPL 46</td>\n",
       "    </tr>\n",
       "    <tr>\n",
       "      <th>2</th>\n",
       "      <td>Pallas</td>\n",
       "      <td>59000.0</td>\n",
       "      <td>2.773841</td>\n",
       "      <td>0.229972</td>\n",
       "      <td>34.83293</td>\n",
       "      <td>310.20239</td>\n",
       "      <td>173.02474</td>\n",
       "      <td>144.975678</td>\n",
       "      <td>4.20</td>\n",
       "      <td>0.11</td>\n",
       "      <td>JPL 36</td>\n",
       "    </tr>\n",
       "    <tr>\n",
       "      <th>3</th>\n",
       "      <td>Juno</td>\n",
       "      <td>59000.0</td>\n",
       "      <td>2.668285</td>\n",
       "      <td>0.256936</td>\n",
       "      <td>12.99104</td>\n",
       "      <td>248.06619</td>\n",
       "      <td>169.85148</td>\n",
       "      <td>125.435354</td>\n",
       "      <td>5.33</td>\n",
       "      <td>0.32</td>\n",
       "      <td>JPL 111</td>\n",
       "    </tr>\n",
       "    <tr>\n",
       "      <th>4</th>\n",
       "      <td>Vesta</td>\n",
       "      <td>58600.0</td>\n",
       "      <td>2.361418</td>\n",
       "      <td>0.088721</td>\n",
       "      <td>7.14177</td>\n",
       "      <td>150.72854</td>\n",
       "      <td>103.81080</td>\n",
       "      <td>95.861938</td>\n",
       "      <td>3.00</td>\n",
       "      <td>0.32</td>\n",
       "      <td>JPL 35</td>\n",
       "    </tr>\n",
       "    <tr>\n",
       "      <th>5</th>\n",
       "      <td>Astraea</td>\n",
       "      <td>59000.0</td>\n",
       "      <td>2.574037</td>\n",
       "      <td>0.190913</td>\n",
       "      <td>5.36743</td>\n",
       "      <td>358.64842</td>\n",
       "      <td>141.57103</td>\n",
       "      <td>17.846339</td>\n",
       "      <td>6.90</td>\n",
       "      <td>0.15</td>\n",
       "      <td>JPL 113</td>\n",
       "    </tr>\n",
       "  </tbody>\n",
       "</table>\n",
       "</div>"
      ],
      "text/plain": [
       "      Name    Epoch         a         e         i          w       Node  \\\n",
       "1    Ceres  59000.0  2.767657  0.077557  10.58862   73.73167   80.28699   \n",
       "2   Pallas  59000.0  2.773841  0.229972  34.83293  310.20239  173.02474   \n",
       "3     Juno  59000.0  2.668285  0.256936  12.99104  248.06619  169.85148   \n",
       "4    Vesta  58600.0  2.361418  0.088721   7.14177  150.72854  103.81080   \n",
       "5  Astraea  59000.0  2.574037  0.190913   5.36743  358.64842  141.57103   \n",
       "\n",
       "            M     H     G      Ref  \n",
       "1  162.686252  3.40  0.12   JPL 46  \n",
       "2  144.975678  4.20  0.11   JPL 36  \n",
       "3  125.435354  5.33  0.32  JPL 111  \n",
       "4   95.861938  3.00  0.32   JPL 35  \n",
       "5   17.846339  6.90  0.15  JPL 113  "
      ]
     },
     "execution_count": 3,
     "metadata": {},
     "output_type": "execute_result"
    }
   ],
   "source": [
    "df.head()"
   ]
  },
  {
   "cell_type": "code",
   "execution_count": null,
   "metadata": {},
   "outputs": [],
   "source": []
  }
 ],
 "metadata": {
  "kernelspec": {
   "display_name": "py37astro",
   "language": "python",
   "name": "py37astro"
  },
  "language_info": {
   "codemirror_mode": {
    "name": "ipython",
    "version": 3
   },
   "file_extension": ".py",
   "mimetype": "text/x-python",
   "name": "python",
   "nbconvert_exporter": "python",
   "pygments_lexer": "ipython3",
   "version": "3.7.7"
  }
 },
 "nbformat": 4,
 "nbformat_minor": 4
}
